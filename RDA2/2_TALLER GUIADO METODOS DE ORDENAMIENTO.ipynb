{
 "cells": [
  {
   "cell_type": "markdown",
   "id": "94426e75",
   "metadata": {},
   "source": [
    "## Taller Guiado: Métodos de Ordenamiento Clásicos en Python"
   ]
  },
  {
   "cell_type": "markdown",
   "id": "0d668287",
   "metadata": {},
   "source": [
    "1. Bubble Sort (Ordenamiento burbuja)"
   ]
  },
  {
   "cell_type": "code",
   "execution_count": 1,
   "id": "2b05ad7a",
   "metadata": {},
   "outputs": [
    {
     "name": "stdout",
     "output_type": "stream",
     "text": [
      "Original: [5, 2, 9, 1, 7]\n",
      "Ordenado: [1, 2, 5, 7, 9]\n"
     ]
    }
   ],
   "source": [
    "def bubble_sort(lista):\n",
    "    n = len(lista)  # Guardamos la longitud de la lista\n",
    "\n",
    "    # Recorremos toda la lista n veces\n",
    "    for i in range(n):\n",
    "        # En cada pasada, comparamos elementos adyacentes\n",
    "        for j in range(0, n - i - 1):\n",
    "            # Si el elemento actual es mayor que el siguiente, los intercambiamos\n",
    "            if lista[j] > lista[j + 1]:\n",
    "                lista[j], lista[j + 1] = lista[j + 1], lista[j]\n",
    "                # Intercambio usando desempaquetado de tuplas\n",
    "\n",
    "    return lista  # Retornamos la lista ordenada\n",
    "\n",
    "# Prueba\n",
    "numeros = [5, 2, 9, 1, 7]\n",
    "print(\"Original:\", numeros)\n",
    "print(\"Ordenado:\", bubble_sort(numeros.copy()))\n"
   ]
  },
  {
   "cell_type": "markdown",
   "id": "9f2ab992",
   "metadata": {},
   "source": [
    "2. Insertion Sort (Ordenamiento por inserción)"
   ]
  },
  {
   "cell_type": "code",
   "execution_count": 2,
   "id": "5ebccc7d",
   "metadata": {},
   "outputs": [
    {
     "name": "stdout",
     "output_type": "stream",
     "text": [
      "Original: [5, 2, 9, 1, 7]\n",
      "Ordenado: [1, 2, 5, 7, 9]\n"
     ]
    }
   ],
   "source": [
    "def insertion_sort(lista):\n",
    "    # Recorremos desde el segundo elemento hasta el final\n",
    "    for i in range(1, len(lista)):\n",
    "        actual = lista[i]  # Elemento actual a insertar\n",
    "        j = i - 1          # Posición anterior\n",
    "\n",
    "        # Mientras haya elementos mayores que el actual, los movemos una posición a la derecha\n",
    "        while j >= 0 and lista[j] > actual:\n",
    "            lista[j + 1] = lista[j]\n",
    "            j -= 1\n",
    "\n",
    "        # Insertamos el elemento en su posición correcta\n",
    "        lista[j + 1] = actual\n",
    "\n",
    "    return lista  # Retornamos la lista ordenada\n",
    "\n",
    "# Prueba\n",
    "numeros = [5, 2, 9, 1, 7]\n",
    "print(\"Original:\", numeros)\n",
    "print(\"Ordenado:\", insertion_sort(numeros.copy()))\n"
   ]
  },
  {
   "cell_type": "markdown",
   "id": "46069139",
   "metadata": {},
   "source": [
    "3. Selection Sort (Ordenamiento por selección)"
   ]
  },
  {
   "cell_type": "code",
   "execution_count": 3,
   "id": "60ed5df7",
   "metadata": {},
   "outputs": [
    {
     "name": "stdout",
     "output_type": "stream",
     "text": [
      "Original: [5, 2, 9, 1, 7]\n",
      "Ordenado: [1, 2, 5, 7, 9]\n"
     ]
    }
   ],
   "source": [
    "def selection_sort(lista):\n",
    "    n = len(lista)\n",
    "\n",
    "    # Recorremos todos los elementos\n",
    "    for i in range(n):\n",
    "        min_idx = i  # Suponemos que el mínimo está en la posición actual\n",
    "\n",
    "        # Buscamos el menor elemento en el resto de la lista\n",
    "        for j in range(i + 1, n):\n",
    "            if lista[j] < lista[min_idx]:\n",
    "                min_idx = j  # Actualizamos el índice del nuevo mínimo\n",
    "\n",
    "        # Si encontramos un nuevo mínimo, lo intercambiamos con el actual\n",
    "        if min_idx != i:\n",
    "            lista[i], lista[min_idx] = lista[min_idx], lista[i]\n",
    "\n",
    "    return lista\n",
    "\n",
    "# Prueba\n",
    "numeros = [5, 2, 9, 1, 7]\n",
    "print(\"Original:\", numeros)\n",
    "print(\"Ordenado:\", selection_sort(numeros.copy()))\n"
   ]
  }
 ],
 "metadata": {
  "kernelspec": {
   "display_name": "base",
   "language": "python",
   "name": "python3"
  },
  "language_info": {
   "codemirror_mode": {
    "name": "ipython",
    "version": 3
   },
   "file_extension": ".py",
   "mimetype": "text/x-python",
   "name": "python",
   "nbconvert_exporter": "python",
   "pygments_lexer": "ipython3",
   "version": "3.11.5"
  }
 },
 "nbformat": 4,
 "nbformat_minor": 5
}
