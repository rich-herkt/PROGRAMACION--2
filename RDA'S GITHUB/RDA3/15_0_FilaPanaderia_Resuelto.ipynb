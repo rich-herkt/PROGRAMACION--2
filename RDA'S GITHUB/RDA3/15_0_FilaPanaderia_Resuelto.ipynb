{
 "cells": [
  {
   "cell_type": "markdown",
   "id": "bccbd584",
   "metadata": {},
   "source": [
    "\n",
    "# Fila en la Panadería (Resuelto y Explicado)\n",
    "\n",
    "Este ejercicio simula una fila de personas que llegan a una panadería. Cada persona hace un pedido y es atendida por orden de llegada (estructura FIFO: First In, First Out).\n",
    "\n",
    "Se utiliza una lista enlazada simple para representar la cola."
   ]
  },
  {
   "cell_type": "code",
   "execution_count": null,
   "id": "91006047",
   "metadata": {},
   "outputs": [],
   "source": [
    "# Clase Persona: Representa a alguien que llega a la panadería\n",
    "class Persona:\n",
    "    def __init__(self, nombre, pedido):\n",
    "        self.nombre = nombre  # Nombre de la persona\n",
    "        self.pedido = pedido  # Qué desea comprar\n"
   ]
  },
  {
   "cell_type": "code",
   "execution_count": null,
   "id": "3edf7c8e",
   "metadata": {},
   "outputs": [],
   "source": [
    "# Clase NodoFila: Nodo de la lista enlazada que contiene a la persona\n",
    "class NodoFila:\n",
    "    def __init__(self, persona):\n",
    "        self.persona = persona  # La persona que está en la fila\n",
    "        self.siguiente = None   # Enlace al siguiente nodo en la fila\n"
   ]
  },
  {
   "cell_type": "code",
   "execution_count": null,
   "id": "1769333f",
   "metadata": {},
   "outputs": [],
   "source": [
    "# Clase FilaPanaderia: Maneja toda la fila\n",
    "class FilaPanaderia:\n",
    "    def __init__(self):\n",
    "        self.primero = None  # Inicio de la fila\n",
    "\n",
    "    def llegar_persona(self, persona):\n",
    "        \"\"\"Agrega una nueva persona al final de la fila.\"\"\"\n",
    "        nuevo = NodoFila(persona)\n",
    "        if not self.primero:\n",
    "            # Si la fila está vacía, la nueva persona es la primera\n",
    "            self.primero = nuevo\n",
    "        else:\n",
    "            # Si hay personas, recorrer hasta el final para agregar allí\n",
    "            actual = self.primero\n",
    "            while actual.siguiente:\n",
    "                actual = actual.siguiente\n",
    "            actual.siguiente = nuevo\n",
    "\n",
    "    def atender_persona(self):\n",
    "        \"\"\"Atiende (elimina e imprime) a la primera persona en la fila.\"\"\"\n",
    "        if self.primero:\n",
    "            print(f\"Atendiendo a: {self.primero.persona.nombre} - Pedido: {self.primero.persona.pedido}\")\n",
    "            self.primero = self.primero.siguiente  # El siguiente pasa a ser el primero\n",
    "        else:\n",
    "            print(\"No hay personas en la fila.\")\n",
    "\n",
    "    def mostrar_fila(self):\n",
    "        \"\"\"Muestra todas las personas que están en la fila actualmente.\"\"\"\n",
    "        actual = self.primero\n",
    "        if not actual:\n",
    "            print(\"La fila está vacía.\")\n",
    "            return\n",
    "        print(\"Fila actual:\")\n",
    "        while actual:\n",
    "            p = actual.persona\n",
    "            print(f\"- {p.nombre} pide {p.pedido}\")\n",
    "            actual = actual.siguiente\n"
   ]
  },
  {
   "cell_type": "code",
   "execution_count": null,
   "id": "537d3661",
   "metadata": {},
   "outputs": [],
   "source": [
    "# Prueba del funcionamiento de la fila\n",
    "fila = FilaPanaderia()\n",
    "\n",
    "# Llegan personas a la panadería\n",
    "fila.llegar_persona(Persona(\"Edison\", \"2 panes\"))\n",
    "fila.llegar_persona(Persona(\"Luisa\", \"1 pan y 1 jugo\"))\n",
    "fila.llegar_persona(Persona(\"Carlos\", \"3 panes\"))\n",
    "\n",
    "# Mostrar la fila actual\n",
    "fila.mostrar_fila()\n",
    "\n",
    "# Atender a las dos primeras personas\n",
    "fila.atender_persona()\n",
    "fila.atender_persona()\n",
    "\n",
    "# Mostrar cómo queda la fila\n",
    "fila.mostrar_fila()\n"
   ]
  }
 ],
 "metadata": {
  "language_info": {
   "name": "python"
  }
 },
 "nbformat": 4,
 "nbformat_minor": 5
}
